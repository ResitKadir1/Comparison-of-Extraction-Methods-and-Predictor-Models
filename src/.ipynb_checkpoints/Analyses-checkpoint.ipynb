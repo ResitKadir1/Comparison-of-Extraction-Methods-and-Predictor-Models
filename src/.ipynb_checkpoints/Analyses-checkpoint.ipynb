{
 "cells": [
  {
   "cell_type": "code",
   "execution_count": 19,
   "id": "e63493c1",
   "metadata": {},
   "outputs": [],
   "source": [
    "import pandas as pd\n",
    "import pdfkit as pdf"
   ]
  },
  {
   "cell_type": "code",
   "execution_count": 20,
   "id": "c9ff4388",
   "metadata": {
    "scrolled": true
   },
   "outputs": [
    {
     "name": "stderr",
     "output_type": "stream",
     "text": [
      "C:\\Users\\resit\\AppData\\Local\\Temp\\ipykernel_21192\\105445980.py:1: FutureWarning: The error_bad_lines argument has been deprecated and will be removed in a future version. Use on_bad_lines in the future.\n",
      "\n",
      "\n",
      "  df = pd.read_csv(\"C:/Users/resit/Downloads/Comparison-of-Extraction-Methods-and-Predictor-Models/DataPointSchema.csv\",error_bad_lines=False)\n"
     ]
    }
   ],
   "source": [
    "df = pd.read_csv(\"C:/Users/resit/Downloads/Comparison-of-Extraction-Methods-and-Predictor-Models/DataPointSchema.csv\",error_bad_lines=False)"
   ]
  },
  {
   "cell_type": "code",
   "execution_count": 24,
   "id": "ff00ce2e",
   "metadata": {},
   "outputs": [],
   "source": [
    "df = df[[\"File Names\",\"LGI\",\"GREEN\",\"CHROM\",\"PCA\",\"GT\"]]"
   ]
  },
  {
   "cell_type": "code",
   "execution_count": 18,
   "id": "15ded951",
   "metadata": {},
   "outputs": [
    {
     "name": "stdout",
     "output_type": "stream",
     "text": [
      "Collecting pdfkit\n",
      "  Downloading pdfkit-1.0.0-py3-none-any.whl (12 kB)\n",
      "Installing collected packages: pdfkit\n",
      "Successfully installed pdfkit-1.0.0\n",
      "Note: you may need to restart the kernel to use updated packages.\n"
     ]
    }
   ],
   "source": [
    "pip install pdfkit"
   ]
  },
  {
   "cell_type": "code",
   "execution_count": 22,
   "id": "9ca459ce",
   "metadata": {},
   "outputs": [],
   "source": [
    "import pandas as pd\n",
    "import numpy as np\n",
    "import matplotlib.pyplot as plt\n",
    "from matplotlib.backends.backend_pdf import PdfPages\n",
    "\n",
    "def _draw_as_table(df, pagesize):\n",
    "    alternating_colors = [['white'] * len(df.columns), ['lightgray'] * len(df.columns)] * len(df)\n",
    "    alternating_colors = alternating_colors[:len(df)]\n",
    "    fig, ax = plt.subplots(figsize=pagesize)\n",
    "    ax.axis('tight')\n",
    "    ax.axis('off')\n",
    "    the_table = ax.table(cellText=df.values,\n",
    "                        rowLabels=df.index,\n",
    "                        colLabels=df.columns,\n",
    "                        rowColours=['lightblue']*len(df),\n",
    "                        colColours=['lightblue']*len(df.columns),\n",
    "                        cellColours=alternating_colors,\n",
    "                        loc='center')\n",
    "    return fig\n",
    "  \n",
    "\n",
    "def dataframe_to_pdf(df, filename, numpages=(1, 1), pagesize=(11, 8.5)):\n",
    "  with PdfPages(filename) as pdf:\n",
    "    nh, nv = numpages\n",
    "    rows_per_page = len(df) // nh\n",
    "    cols_per_page = len(df.columns) // nv\n",
    "    for i in range(0, nh):\n",
    "        for j in range(0, nv):\n",
    "            page = df.iloc[(i*rows_per_page):min((i+1)*rows_per_page, len(df)),\n",
    "                           (j*cols_per_page):min((j+1)*cols_per_page, len(df.columns))]\n",
    "            fig = _draw_as_table(page, pagesize)\n",
    "            if nh > 1 or nv > 1:\n",
    "                # Add a part/page number at bottom-center of page\n",
    "                fig.text(0.5, 0.5/pagesize[0],\n",
    "                         \"Part-{}x{}: Page-{}\".format(i+1, j+1, i*nv + j + 1),\n",
    "                         ha='center', fontsize=8)\n",
    "            pdf.savefig(fig, bbox_inches='tight')\n",
    "            \n",
    "            plt.close()"
   ]
  },
  {
   "cell_type": "code",
   "execution_count": 23,
   "id": "6c67cbb6",
   "metadata": {},
   "outputs": [],
   "source": [
    "dataframe_to_pdf(df, 'out.pdf')"
   ]
  },
  {
   "cell_type": "code",
   "execution_count": null,
   "id": "62f81f2f",
   "metadata": {},
   "outputs": [],
   "source": []
  }
 ],
 "metadata": {
  "kernelspec": {
   "display_name": "Python 3 (ipykernel)",
   "language": "python",
   "name": "python3"
  },
  "language_info": {
   "codemirror_mode": {
    "name": "ipython",
    "version": 3
   },
   "file_extension": ".py",
   "mimetype": "text/x-python",
   "name": "python",
   "nbconvert_exporter": "python",
   "pygments_lexer": "ipython3",
   "version": "3.10.9"
  }
 },
 "nbformat": 4,
 "nbformat_minor": 5
}
